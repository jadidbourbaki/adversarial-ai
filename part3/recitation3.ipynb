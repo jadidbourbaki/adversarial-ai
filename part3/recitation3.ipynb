{
 "cells": [
  {
   "cell_type": "markdown",
   "metadata": {
    "vscode": {
     "languageId": "plaintext"
    }
   },
   "source": [
    "# Recitation 3: Adversarial Examples and Attacks\n",
    "\n",
    "This recitation introduces adversarial examples, i.e., specially crafted inputs that fool machine learning models. You'll learn to generate adversarial examples using gradient-based attacks and understand their implications for ML security.\n",
    "\n",
    "**Note**: This is a tutorial session. Your homework assignment will be provided separately in Assignment 3.\n"
   ]
  },
  {
   "cell_type": "markdown",
   "metadata": {
    "jp-MarkdownHeadingCollapsed": true
   },
   "source": [
    "## Setup\n",
    "\n",
    "Run the code below to set up the notebook."
   ]
  },
  {
   "cell_type": "code",
   "execution_count": 1,
   "metadata": {},
   "outputs": [
    {
     "name": "stdout",
     "output_type": "stream",
     "text": [
      "Using device: cpu\n",
      "✅ Adversarial attack libraries loaded!\n",
      "🎯 Ready to explore the dark side of machine learning...\n"
     ]
    }
   ],
   "source": [
    "# Import necessary libraries\n",
    "import torch\n",
    "import torch.nn as nn\n",
    "import torch.nn.functional as F\n",
    "import torch.optim as optim\n",
    "from torch.utils.data import DataLoader\n",
    "\n",
    "import torchvision\n",
    "import torchvision.transforms as transforms\n",
    "from torchvision import datasets\n",
    "\n",
    "import matplotlib.pyplot as plt\n",
    "import numpy as np\n",
    "import seaborn as sns\n",
    "from tqdm import tqdm\n",
    "import copy\n",
    "\n",
    "# Set device\n",
    "device = torch.device('cuda' if torch.cuda.is_available() else 'cpu')\n",
    "print(f\"Using device: {device}\")\n",
    "\n",
    "# Set random seeds for reproducibility\n",
    "torch.manual_seed(42)\n",
    "np.random.seed(42)\n",
    "\n",
    "# Enhanced plotting style\n",
    "plt.style.use('default')\n",
    "sns.set_palette(\"husl\")\n",
    "\n",
    "print(\"✅ Adversarial attack libraries loaded!\")\n",
    "print(\"🎯 Ready to explore the dark side of machine learning...\")\n"
   ]
  },
  {
   "cell_type": "markdown",
   "metadata": {
    "jp-MarkdownHeadingCollapsed": true
   },
   "source": [
    "## Part 1: Build and Train Target Model\n",
    "\n",
    "We'll train a fresh CNN model from scratch similar to the one we created in the previous assignment to serve as our target for adversarial attacks. \n"
   ]
  },
  {
   "cell_type": "code",
   "execution_count": 2,
   "metadata": {},
   "outputs": [
    {
     "name": "stdout",
     "output_type": "stream",
     "text": [
      "🏗️ Training a fresh CNN model for adversarial attacks...\n",
      "(This ensures we have a well-trained target for meaningful attack demonstrations)\n",
      "📊 Loading MNIST dataset...\n",
      "✅ Dataset loaded: 60000 training, 10000 test samples\n",
      "🤖 Model parameters: 1,625,866\n",
      "🚀 Starting training...\n",
      "\n",
      "📚 Epoch 1/3\n"
     ]
    },
    {
     "name": "stderr",
     "output_type": "stream",
     "text": [
      "Training: 100%|██████████████████████████████████████████████████████████████████| 469/469 [00:53<00:00,  8.80it/s, Loss=0.2422, Acc=92.57%]\n"
     ]
    },
    {
     "name": "stdout",
     "output_type": "stream",
     "text": [
      "   📈 Epoch 1 - Loss: 0.2370, Accuracy: 92.72%\n",
      "\n",
      "📚 Epoch 2/3\n"
     ]
    },
    {
     "name": "stderr",
     "output_type": "stream",
     "text": [
      "Training: 100%|██████████████████████████████████████████████████████████████████| 469/469 [00:53<00:00,  8.76it/s, Loss=0.0839, Acc=97.51%]\n"
     ]
    },
    {
     "name": "stdout",
     "output_type": "stream",
     "text": [
      "   📈 Epoch 2 - Loss: 0.0841, Accuracy: 97.51%\n",
      "\n",
      "📚 Epoch 3/3\n"
     ]
    },
    {
     "name": "stderr",
     "output_type": "stream",
     "text": [
      "Training: 100%|██████████████████████████████████████████████████████████████████| 469/469 [00:53<00:00,  8.69it/s, Loss=0.0615, Acc=98.15%]\n"
     ]
    },
    {
     "name": "stdout",
     "output_type": "stream",
     "text": [
      "   📈 Epoch 3 - Loss: 0.0617, Accuracy: 98.14%\n",
      "\n",
      "📊 Evaluating model performance...\n",
      "🎯 Test Accuracy: 98.91%\n",
      "✅ Excellent! Model is well-trained and ready for adversarial attacks!\n",
      "💾 Model saved as 'trained_mnist_model.pth'\n",
      "\n",
      "🎯 Fresh model trained and ready for adversarial attacks!\n"
     ]
    }
   ],
   "source": [
    "# Define CNN architecture for MNIST classification\n",
    "class MNISTNet(nn.Module):\n",
    "    \"\"\"Convolutional Neural Network for MNIST digit classification.\"\"\"\n",
    "    \n",
    "    def __init__(self):\n",
    "        super(MNISTNet, self).__init__()\n",
    "        \n",
    "        # Convolutional layers\n",
    "        self.conv1 = nn.Conv2d(1, 32, kernel_size=3, stride=1, padding=1)\n",
    "        self.conv2 = nn.Conv2d(32, 64, kernel_size=3, stride=1, padding=1)\n",
    "        \n",
    "        # Pooling and dropout\n",
    "        self.pool = nn.MaxPool2d(kernel_size=2, stride=2)\n",
    "        self.dropout1 = nn.Dropout(0.25)\n",
    "        self.dropout2 = nn.Dropout(0.5)\n",
    "        \n",
    "        # Fully connected layers\n",
    "        self.fc1 = nn.Linear(64 * 14 * 14, 128)\n",
    "        self.fc2 = nn.Linear(128, 10)\n",
    "    \n",
    "    def forward(self, x):\n",
    "        x = F.relu(self.conv1(x))\n",
    "        x = F.relu(self.conv2(x))\n",
    "        x = self.pool(x)\n",
    "        x = self.dropout1(x)\n",
    "        \n",
    "        x = x.view(x.size(0), -1)\n",
    "        x = F.relu(self.fc1(x))\n",
    "        x = self.dropout2(x)\n",
    "        x = self.fc2(x)\n",
    "        \n",
    "        return x\n",
    "\n",
    "print(\"🏗️ Training a fresh CNN model for adversarial attacks...\")\n",
    "print(\"(This ensures we have a well-trained target for meaningful attack demonstrations)\")\n",
    "\n",
    "# Load MNIST training data\n",
    "transform = transforms.Compose([\n",
    "    transforms.ToTensor(),\n",
    "    transforms.Normalize((0.1307,), (0.3081,))\n",
    "])\n",
    "\n",
    "print(\"📊 Loading MNIST dataset...\")\n",
    "train_dataset = datasets.MNIST('./data', train=True, download=True, transform=transform)\n",
    "test_dataset = datasets.MNIST('./data', train=False, download=True, transform=transform)\n",
    "\n",
    "# Create data loaders\n",
    "train_loader = DataLoader(train_dataset, batch_size=128, shuffle=True)\n",
    "test_loader_eval = DataLoader(test_dataset, batch_size=1000, shuffle=False)\n",
    "\n",
    "print(f\"✅ Dataset loaded: {len(train_dataset)} training, {len(test_dataset)} test samples\")\n",
    "\n",
    "# Initialize model, loss, and optimizer\n",
    "model = MNISTNet().to(device)\n",
    "criterion = nn.CrossEntropyLoss()\n",
    "optimizer = optim.Adam(model.parameters(), lr=0.001)\n",
    "\n",
    "print(f\"🤖 Model parameters: {sum(p.numel() for p in model.parameters()):,}\")\n",
    "\n",
    "# Quick training function\n",
    "def train_model(model, train_loader, criterion, optimizer, epochs=3):\n",
    "    \"\"\"Train the model for a few epochs to get good performance.\"\"\"\n",
    "    model.train()\n",
    "    \n",
    "    for epoch in range(epochs):\n",
    "        running_loss = 0.0\n",
    "        correct = 0\n",
    "        total = 0\n",
    "        \n",
    "        print(f\"\\n📚 Epoch {epoch+1}/{epochs}\")\n",
    "        \n",
    "        with tqdm(train_loader, desc=f\"Training\") as pbar:\n",
    "            for batch_idx, (data, target) in enumerate(pbar):\n",
    "                data, target = data.to(device), target.to(device)\n",
    "                \n",
    "                optimizer.zero_grad()\n",
    "                output = model(data)\n",
    "                loss = criterion(output, target)\n",
    "                loss.backward()\n",
    "                optimizer.step()\n",
    "                \n",
    "                # Statistics\n",
    "                running_loss += loss.item()\n",
    "                _, predicted = torch.max(output.data, 1)\n",
    "                total += target.size(0)\n",
    "                correct += (predicted == target).sum().item()\n",
    "                \n",
    "                # Update progress bar\n",
    "                if batch_idx % 50 == 0:\n",
    "                    accuracy = 100. * correct / total\n",
    "                    avg_loss = running_loss / (batch_idx + 1)\n",
    "                    pbar.set_postfix({\n",
    "                        'Loss': f'{avg_loss:.4f}', \n",
    "                        'Acc': f'{accuracy:.2f}%'\n",
    "                    })\n",
    "        \n",
    "        # Final epoch stats\n",
    "        epoch_accuracy = 100. * correct / total\n",
    "        epoch_loss = running_loss / len(train_loader)\n",
    "        print(f\"   📈 Epoch {epoch+1} - Loss: {epoch_loss:.4f}, Accuracy: {epoch_accuracy:.2f}%\")\n",
    "\n",
    "# Test model performance\n",
    "def evaluate_model(model, test_loader):\n",
    "    \"\"\"Evaluate model on test set.\"\"\"\n",
    "    model.eval()\n",
    "    correct = 0\n",
    "    total = 0\n",
    "    \n",
    "    with torch.no_grad():\n",
    "        for data, target in test_loader:\n",
    "            data, target = data.to(device), target.to(device)\n",
    "            output = model(data)\n",
    "            _, predicted = torch.max(output, 1)\n",
    "            total += target.size(0)\n",
    "            correct += (predicted == target).sum().item()\n",
    "    \n",
    "    accuracy = 100. * correct / total\n",
    "    return accuracy\n",
    "\n",
    "# Train the model\n",
    "print(\"🚀 Starting training...\")\n",
    "train_model(model, train_loader, criterion, optimizer, epochs=3)\n",
    "\n",
    "# Evaluate performance\n",
    "print(\"\\n📊 Evaluating model performance...\")\n",
    "test_accuracy = evaluate_model(model, test_loader_eval)\n",
    "print(f\"🎯 Test Accuracy: {test_accuracy:.2f}%\")\n",
    "\n",
    "if test_accuracy > 95:\n",
    "    print(\"✅ Excellent! Model is well-trained and ready for adversarial attacks!\")\n",
    "elif test_accuracy > 90:\n",
    "    print(\"✅ Good! Model performance is sufficient for attack demonstrations!\")\n",
    "else:\n",
    "    print(\"⚠️  Model accuracy is lower than expected, but will work for demonstrations.\")\n",
    "\n",
    "# Save the trained model\n",
    "torch.save(model.state_dict(), 'trained_mnist_model.pth')\n",
    "print(\"💾 Model saved as 'trained_mnist_model.pth'\")\n",
    "\n",
    "print(f\"\\n🎯 Fresh model trained and ready for adversarial attacks!\")\n"
   ]
  },
  {
   "cell_type": "markdown",
   "metadata": {},
   "source": [
    "### Loading dataset\n",
    "\n",
    "Now let's load the train and test samples"
   ]
  },
  {
   "cell_type": "code",
   "execution_count": 3,
   "metadata": {},
   "outputs": [
    {
     "name": "stdout",
     "output_type": "stream",
     "text": [
      "📊 Preparing samples for adversarial attacks...\n",
      "🔍 Finding a correctly classified sample...\n",
      "✅ Found correctly classified sample #1\n",
      "📸 Sample: True label = 7, Predicted = 7\n",
      "🎯 Confidence: 1.0000\n"
     ]
    },
    {
     "data": {
      "image/png": "[encoded data removed]",
      "text/plain": [
       "<Figure size 1200x400 with 3 Axes>"
      ]
     },
     "metadata": {},
     "output_type": "display_data"
    },
    {
     "name": "stdout",
     "output_type": "stream",
     "text": [
      "✅ Ready to generate adversarial examples!\n"
     ]
    }
   ],
   "source": [
    "# Prepare test data for attack demonstrations\n",
    "print(\"📊 Preparing samples for adversarial attacks...\")\n",
    "\n",
    "# Create a single-sample test loader for attack demonstrations\n",
    "test_loader = DataLoader(test_dataset, batch_size=1, shuffle=False)\n",
    "\n",
    "# Find a correctly classified sample for meaningful attack demonstration\n",
    "print(\"🔍 Finding a correctly classified sample...\")\n",
    "\n",
    "sample_found = False\n",
    "sample_count = 0\n",
    "\n",
    "for sample_image, sample_label in test_loader:\n",
    "    sample_image = sample_image.to(device)\n",
    "    sample_label = sample_label.to(device)\n",
    "    \n",
    "    # Test if model predicts correctly\n",
    "    model.eval()\n",
    "    with torch.no_grad():\n",
    "        clean_output = model(sample_image)\n",
    "        clean_pred = torch.argmax(clean_output, dim=1)\n",
    "        clean_confidence = F.softmax(clean_output, dim=1).max()\n",
    "    \n",
    "    sample_count += 1\n",
    "    \n",
    "    # Use this sample if correctly predicted or if we've tried many samples\n",
    "    if clean_pred.item() == sample_label.item() or sample_count >= 20:\n",
    "        sample_found = True\n",
    "        break\n",
    "\n",
    "if clean_pred.item() == sample_label.item():\n",
    "    print(f\"✅ Found correctly classified sample #{sample_count}\")\n",
    "    print(f\"📸 Sample: True label = {sample_label.item()}, Predicted = {clean_pred.item()}\")\n",
    "    print(f\"🎯 Confidence: {clean_confidence:.4f}\")\n",
    "else:\n",
    "    print(f\"⚠️  Using sample #{sample_count} (may be incorrectly classified)\")\n",
    "    print(f\"📸 Sample: True label = {sample_label.item()}, Predicted = {clean_pred.item()}\")\n",
    "    print(f\"🎯 Confidence: {clean_confidence:.4f}\")\n",
    "\n",
    "# Visualize the selected sample\n",
    "plt.figure(figsize=(12, 4))\n",
    "\n",
    "plt.subplot(1, 3, 1)\n",
    "img_np = sample_image.squeeze().cpu().numpy()\n",
    "plt.imshow(img_np, cmap='gray')\n",
    "color = 'green' if clean_pred.item() == sample_label.item() else 'red'\n",
    "plt.title(f'Selected Image\\nTrue: {sample_label.item()}, Pred: {clean_pred.item()}', color=color)\n",
    "plt.axis('off')\n",
    "\n",
    "plt.subplot(1, 3, 2)\n",
    "# Show the prediction probabilities\n",
    "probs = F.softmax(clean_output, dim=1).squeeze().cpu().numpy()\n",
    "colors = ['lightcoral' if i != clean_pred.item() else 'lightgreen' for i in range(10)]\n",
    "plt.bar(range(10), probs, alpha=0.7, color=colors)\n",
    "plt.xlabel('Digit Class')\n",
    "plt.ylabel('Probability')\n",
    "plt.title('Model Confidence Distribution')\n",
    "plt.xticks(range(10))\n",
    "plt.axhline(y=0.1, color='gray', linestyle='--', alpha=0.5, label='Random (10%)')\n",
    "\n",
    "plt.subplot(1, 3, 3)\n",
    "# Show top 3 predictions\n",
    "top_probs, top_indices = torch.topk(F.softmax(clean_output, dim=1), 3)\n",
    "top_probs = top_probs.squeeze().cpu().numpy()\n",
    "top_indices = top_indices.squeeze().cpu().numpy()\n",
    "\n",
    "bars = plt.bar(range(3), top_probs, alpha=0.7)\n",
    "bars[0].set_color('lightgreen')  # Highest prediction\n",
    "bars[1].set_color('orange')      # Second highest\n",
    "bars[2].set_color('lightcoral')  # Third highest\n",
    "plt.xlabel('Prediction Rank')\n",
    "plt.ylabel('Probability')\n",
    "plt.title('Top 3 Predictions')\n",
    "plt.xticks(range(3), [f'Class {idx}' for idx in top_indices])\n",
    "\n",
    "plt.tight_layout()\n",
    "plt.show()\n",
    "\n",
    "print(\"✅ Ready to generate adversarial examples!\")\n"
   ]
  },
  {
   "cell_type": "markdown",
   "metadata": {
    "jp-MarkdownHeadingCollapsed": true
   },
   "source": [
    "## Part 2: Fast Gradient Sign Method (FGSM)\n",
    "\n",
    "FGSM is the simplest adversarial attack. It works by:\n",
    "1. Computing the gradient of the loss with respect to the input\n",
    "2. Taking the sign of the gradient \n",
    "3. Adding a small perturbation in the direction that increases the loss\n",
    "\n",
    "**Mathematical formula:**\n",
    "$$x_{adv} = x + \\epsilon \\cdot \\text{sign}(\\nabla_x L(\\theta, x, y))$$\n",
    "\n",
    "Where:\n",
    "- $x$ = original input\n",
    "- $\\epsilon$ = perturbation magnitude (attack strength)\n",
    "- $L$ = loss function\n",
    "- $\\theta$ = model parameters\n"
   ]
  },
  {
   "cell_type": "code",
   "execution_count": 11,
   "metadata": {},
   "outputs": [
    {
     "name": "stdout",
     "output_type": "stream",
     "text": [
      "🚀 FGSM ATTACK DEMONSTRATION\n",
      "==================================================\n",
      "\n",
      "🎯 Testing epsilon = 0.05\n",
      "Original prediction: 9 (confidence: 1.0000)\n",
      "Adversarial prediction: 7 (confidence: 0.9930)\n",
      "Attack successful: False\n",
      "\n",
      "🎯 Testing epsilon = 0.1\n",
      "Original prediction: 9 (confidence: 1.0000)\n",
      "Adversarial prediction: 7 (confidence: 0.9885)\n",
      "Attack successful: False\n",
      "\n",
      "🎯 Testing epsilon = 0.2\n",
      "Original prediction: 9 (confidence: 1.0000)\n",
      "Adversarial prediction: 7 (confidence: 0.9678)\n",
      "Attack successful: False\n",
      "\n",
      "🎯 Testing epsilon = 0.3\n",
      "Original prediction: 9 (confidence: 1.0000)\n",
      "Adversarial prediction: 7 (confidence: 0.9080)\n",
      "Attack successful: False\n"
     ]
    },
    {
     "data": {
      "image/png": "[encoded data removed]",
      "text/plain": [
       "<Figure size 1600x800 with 8 Axes>"
      ]
     },
     "metadata": {},
     "output_type": "display_data"
    },
    {
     "name": "stdout",
     "output_type": "stream",
     "text": [
      "\n",
      "FGSM attacks will (with high probability) not make the model fail, this is expected!\n",
      "This is because our model is fairly robust\n",
      "\n",
      "🎉 FGSM attack demonstration complete!\n"
     ]
    }
   ],
   "source": [
    "def fgsm_attack(model, image, label, epsilon=0.1):\n",
    "    \"\"\"\n",
    "    Fast Gradient Sign Method (FGSM) attack implementation.\n",
    "    \n",
    "    Args:\n",
    "        model: The target neural network\n",
    "        image: Input image tensor (requires_grad=True)\n",
    "        label: True label for the image\n",
    "        epsilon: Attack strength (perturbation magnitude)\n",
    "    \n",
    "    Returns:\n",
    "        adversarial_image: The crafted adversarial example\n",
    "        perturbation: The perturbation added to the image\n",
    "    \"\"\"\n",
    "    # Ensure image requires gradients\n",
    "    image.requires_grad_(True)\n",
    "    \n",
    "    # Forward pass\n",
    "    output = model(image)\n",
    "    \n",
    "    # Calculate loss (we want to maximize this)\n",
    "    loss = F.cross_entropy(output, label)\n",
    "    \n",
    "    # Zero gradients and backpropagate\n",
    "    model.zero_grad()\n",
    "    loss.backward()\n",
    "    \n",
    "    # Get the sign of the gradients\n",
    "    gradient_sign = image.grad.data.sign()\n",
    "    \n",
    "    # Create adversarial example\n",
    "    perturbation = epsilon * gradient_sign\n",
    "    adversarial_image = image + perturbation\n",
    "    \n",
    "    # Optional: Clamp to valid pixel range\n",
    "    adversarial_image = torch.clamp(adversarial_image, -1, 1)  # For normalized images\n",
    "    \n",
    "    return adversarial_image.detach(), perturbation.detach()\n",
    "\n",
    "print(\"🚀 FGSM ATTACK DEMONSTRATION\")\n",
    "print(\"=\" * 50)\n",
    "\n",
    "# Test different epsilon values\n",
    "epsilons = [0.05, 0.1, 0.2, 0.3]\n",
    "\n",
    "fig, axes = plt.subplots(2, len(epsilons), figsize=(16, 8))\n",
    "fig.suptitle('FGSM Attack: Effect of Different Epsilon Values', fontsize=16, fontweight='bold')\n",
    "\n",
    "for i, epsilon in enumerate(epsilons):\n",
    "    print(f\"\\n🎯 Testing epsilon = {epsilon}\")\n",
    "    \n",
    "    # Create adversarial example\n",
    "    adv_image, perturbation = fgsm_attack(model, sample_image.clone(), sample_label, epsilon)\n",
    "    \n",
    "    # Test the adversarial example\n",
    "    model.eval()\n",
    "    with torch.no_grad():\n",
    "        adv_output = model(adv_image)\n",
    "        adv_pred = torch.argmax(adv_output, dim=1)\n",
    "        adv_confidence = F.softmax(adv_output, dim=1).max()\n",
    "    \n",
    "    print(f\"Original prediction: {clean_pred.item()} (confidence: {clean_confidence:.4f})\")\n",
    "    print(f\"Adversarial prediction: {adv_pred.item()} (confidence: {adv_confidence:.4f})\")\n",
    "    print(f\"Attack successful: {adv_pred.item() != sample_label.item()}\")\n",
    "    \n",
    "    # Plot original and adversarial images\n",
    "    original_img = sample_image.squeeze().cpu().numpy()\n",
    "    adv_img = adv_image.squeeze().cpu().numpy()\n",
    "    perturbation_img = perturbation.squeeze().cpu().numpy()\n",
    "    \n",
    "    # Original vs Adversarial\n",
    "    axes[0, i].imshow(original_img, cmap='gray')\n",
    "    axes[0, i].set_title(f'Original\\nPred: {clean_pred.item()}')\n",
    "    axes[0, i].axis('off')\n",
    "    \n",
    "    axes[1, i].imshow(adv_img, cmap='gray')\n",
    "    success_indicator = \"✓\" if adv_pred.item() != sample_label.item() else \"✗\"\n",
    "    axes[1, i].set_title(f'Adversarial ε={epsilon} {success_indicator}\\nPred: {adv_pred.item()}')\n",
    "    axes[1, i].axis('off')\n",
    "\n",
    "plt.tight_layout()\n",
    "plt.show()\n",
    "\n",
    "print(\"\\nFGSM attacks will (with high probability) not make the model fail, this is expected!\")\n",
    "print(\"This is because our model is fairly robust\")\n",
    "\n",
    "print(\"\\n🎉 FGSM attack demonstration complete!\")\n"
   ]
  },
  {
   "cell_type": "markdown",
   "metadata": {
    "jp-MarkdownHeadingCollapsed": true
   },
   "source": [
    "## Part 3: Projected Gradient Descent (PGD) Attack\n",
    "\n",
    "PGD is a stronger iterative attack that refines the adversarial example over multiple steps:\n",
    "\n",
    "**Algorithm:**\n",
    "1. Start with a random perturbation within the $\\ell_\\infty$ ball\n",
    "2. For each iteration: Apply FGSM step + project back to constraint set\n",
    "3. Repeat for multiple iterations\n",
    "\n",
    "**Mathematical formula:**\n",
    "$$x_{t+1} = \\Pi_{B_\\epsilon(x)} \\left( x_t + \\alpha \\cdot \\text{sign}(\\nabla_x L(\\theta, x_t, y)) \\right)$$\n",
    "\n",
    "Where $\\Pi_{B_\\epsilon(x)}$ projects back to the $\\ell_\\infty$ ball of radius $\\epsilon$ around $x$.\n"
   ]
  },
  {
   "cell_type": "code",
   "execution_count": 19,
   "metadata": {},
   "outputs": [
    {
     "name": "stdout",
     "output_type": "stream",
     "text": [
      "⚡ PGD ATTACK DEMONSTRATION\n",
      "==================================================\n",
      "\n",
      "🔍 Comparing FGSM vs PGD (epsilon = 0.3)\n",
      "\n",
      "Results:\n",
      "Original: 7 (confidence: 1.0000)\n",
      "FGSM:     7 (confidence: 0.9080) - Success: False\n",
      "PGD:      3 (confidence: 0.8259) - Success: True\n"
     ]
    },
    {
     "data": {
      "image/png": "[encoded data removed]",
      "text/plain": [
       "<Figure size 1200x800 with 6 Axes>"
      ]
     },
     "metadata": {},
     "output_type": "display_data"
    },
    {
     "name": "stdout",
     "output_type": "stream",
     "text": [
      "\n",
      "✅ PGD attack demonstration complete!\n"
     ]
    }
   ],
   "source": [
    "def pgd_attack(model, image, label, epsilon=0.1, alpha=0.01, num_iter=20):\n",
    "    \"\"\"\n",
    "    Projected Gradient Descent (PGD) attack implementation.\n",
    "    \n",
    "    Args:\n",
    "        model: The target neural network\n",
    "        image: Input image tensor\n",
    "        label: True label for the image\n",
    "        epsilon: Maximum perturbation magnitude (L-infinity norm)\n",
    "        alpha: Step size for each iteration\n",
    "        num_iter: Number of PGD iterations\n",
    "    \n",
    "    Returns:\n",
    "        adversarial_image: The crafted adversarial example\n",
    "        perturbation_history: History of perturbations for visualization\n",
    "    \"\"\"\n",
    "    original_image = image.clone().detach()\n",
    "    \n",
    "    # Start with random noise within epsilon ball\n",
    "    adversarial_image = image.clone().detach()\n",
    "    adversarial_image += torch.empty_like(adversarial_image).uniform_(-epsilon, epsilon)\n",
    "    adversarial_image = torch.clamp(adversarial_image, -1, 1)  # Clamp to valid range\n",
    "    \n",
    "    perturbation_history = []\n",
    "    \n",
    "    for i in range(num_iter):\n",
    "        adversarial_image.requires_grad_(True)\n",
    "        \n",
    "        # Forward pass\n",
    "        output = model(adversarial_image)\n",
    "        \n",
    "        # Calculate loss\n",
    "        loss = F.cross_entropy(output, label)\n",
    "        \n",
    "        # Backpropagate\n",
    "        model.zero_grad()\n",
    "        loss.backward()\n",
    "        \n",
    "        # Take step in gradient direction\n",
    "        gradient_sign = adversarial_image.grad.data.sign()\n",
    "        adversarial_image = adversarial_image.detach() + alpha * gradient_sign\n",
    "        \n",
    "        # Project back to epsilon ball around original image\n",
    "        delta = adversarial_image - original_image\n",
    "        delta = torch.clamp(delta, -epsilon, epsilon)\n",
    "        adversarial_image = original_image + delta\n",
    "        adversarial_image = torch.clamp(adversarial_image, -1, 1)\n",
    "        \n",
    "        # Store perturbation for visualization\n",
    "        perturbation_history.append(delta.clone().detach())\n",
    "    \n",
    "    return adversarial_image.detach(), perturbation_history\n",
    "\n",
    "print(\"⚡ PGD ATTACK DEMONSTRATION\")\n",
    "print(\"=\" * 50)\n",
    "\n",
    "# Compare FGSM vs PGD\n",
    "epsilon = 0.3\n",
    "print(f\"\\n🔍 Comparing FGSM vs PGD (epsilon = {epsilon})\")\n",
    "\n",
    "# FGSM attack\n",
    "fgsm_adv, fgsm_pert = fgsm_attack(model, sample_image.clone(), sample_label, epsilon)\n",
    "\n",
    "# PGD attack\n",
    "pgd_adv, pgd_pert_history = pgd_attack(model, sample_image.clone(), sample_label, \n",
    "                                       epsilon, alpha=epsilon/20*2.5, num_iter=20)\n",
    "\n",
    "# Test both adversarial examples\n",
    "model.eval()\n",
    "with torch.no_grad():\n",
    "    fgsm_output = model(fgsm_adv)\n",
    "    fgsm_pred = torch.argmax(fgsm_output, dim=1)\n",
    "    fgsm_confidence = F.softmax(fgsm_output, dim=1).max()\n",
    "    \n",
    "    pgd_output = model(pgd_adv)\n",
    "    pgd_pred = torch.argmax(pgd_output, dim=1)\n",
    "    pgd_confidence = F.softmax(pgd_output, dim=1).max()\n",
    "\n",
    "print(f\"\\nResults:\")\n",
    "print(f\"Original: {sample_label.item()} (confidence: {clean_confidence:.4f})\")\n",
    "print(f\"FGSM:     {fgsm_pred.item()} (confidence: {fgsm_confidence:.4f}) - Success: {fgsm_pred.item() != sample_label.item()}\")\n",
    "print(f\"PGD:      {pgd_pred.item()} (confidence: {pgd_confidence:.4f}) - Success: {pgd_pred.item() != sample_label.item()}\")\n",
    "\n",
    "# Visualize comparison\n",
    "fig, axes = plt.subplots(2, 3, figsize=(12, 8))\n",
    "fig.suptitle('FGSM vs PGD Attack Comparison', fontsize=16, fontweight='bold')\n",
    "\n",
    "# Images\n",
    "images = [sample_image, fgsm_adv, pgd_adv]\n",
    "titles = ['Original', 'FGSM', 'PGD']\n",
    "preds = [sample_label.item(), fgsm_pred.item(), pgd_pred.item()]\n",
    "\n",
    "for i, (img, title, pred) in enumerate(zip(images, titles, preds)):\n",
    "    axes[0, i].imshow(img.squeeze().cpu().numpy(), cmap='gray')\n",
    "    axes[0, i].set_title(f'{title}\\nPrediction: {pred}')\n",
    "    axes[0, i].axis('off')\n",
    "\n",
    "# Perturbations (amplified for visibility)\n",
    "perturbations = [torch.zeros_like(sample_image), fgsm_pert, pgd_pert_history[-1]]\n",
    "for i, pert in enumerate(perturbations):\n",
    "    # Amplify perturbation for visualization\n",
    "    pert_vis = pert * 10 + 0.5  # Scale and shift for visibility\n",
    "    axes[1, i].imshow(pert_vis.squeeze().cpu().numpy(), cmap='seismic', vmin=0, vmax=1)\n",
    "    axes[1, i].set_title(f'{titles[i]} Perturbation\\n(10x amplified)')\n",
    "    axes[1, i].axis('off')\n",
    "\n",
    "plt.tight_layout()\n",
    "plt.show()\n",
    "\n",
    "print(\"\\n✅ PGD attack demonstration complete!\")\n"
   ]
  },
  {
   "cell_type": "markdown",
   "metadata": {
    "jp-MarkdownHeadingCollapsed": true
   },
   "source": [
    "## Part 4: Evaluate attacks\n",
    "\n",
    "Now let's evaluate the success rate of our adversarial attacks."
   ]
  },
  {
   "cell_type": "code",
   "execution_count": 25,
   "metadata": {},
   "outputs": [
    {
     "name": "stdout",
     "output_type": "stream",
     "text": [
      "📊 EVALUATING ATTACK SUCCESS RATES\n",
      "==================================================\n",
      "\n",
      "==============================\n",
      "Testing epsilon = 0.05\n",
      "==============================\n",
      "Testing fgsm_attack with epsilon=0.05 on 50 samples...\n"
     ]
    },
    {
     "name": "stderr",
     "output_type": "stream",
     "text": [
      "Attacking: 100%|███████████████████████████████████████████████████████████████████████████████████████████| 50/50 [00:00<00:00, 323.10it/s]\n"
     ]
    },
    {
     "name": "stdout",
     "output_type": "stream",
     "text": [
      "Attack Success Rate: 0/50 = 0.00%\n",
      "Testing pgd_attack with epsilon=0.05 on 50 samples...\n"
     ]
    },
    {
     "name": "stderr",
     "output_type": "stream",
     "text": [
      "Attacking: 100%|████████████████████████████████████████████████████████████████████████████████████████████| 50/50 [00:01<00:00, 29.51it/s]\n"
     ]
    },
    {
     "name": "stdout",
     "output_type": "stream",
     "text": [
      "Attack Success Rate: 0/50 = 0.00%\n",
      "\n",
      "==============================\n",
      "Testing epsilon = 0.1\n",
      "==============================\n",
      "Testing fgsm_attack with epsilon=0.1 on 50 samples...\n"
     ]
    },
    {
     "name": "stderr",
     "output_type": "stream",
     "text": [
      "Attacking: 100%|███████████████████████████████████████████████████████████████████████████████████████████| 50/50 [00:00<00:00, 377.87it/s]\n"
     ]
    },
    {
     "name": "stdout",
     "output_type": "stream",
     "text": [
      "Attack Success Rate: 0/50 = 0.00%\n",
      "Testing pgd_attack with epsilon=0.1 on 50 samples...\n"
     ]
    },
    {
     "name": "stderr",
     "output_type": "stream",
     "text": [
      "Attacking: 100%|████████████████████████████████████████████████████████████████████████████████████████████| 50/50 [00:01<00:00, 30.60it/s]\n"
     ]
    },
    {
     "name": "stdout",
     "output_type": "stream",
     "text": [
      "Attack Success Rate: 1/50 = 2.00%\n",
      "\n",
      "==============================\n",
      "Testing epsilon = 0.15\n",
      "==============================\n",
      "Testing fgsm_attack with epsilon=0.15 on 50 samples...\n"
     ]
    },
    {
     "name": "stderr",
     "output_type": "stream",
     "text": [
      "Attacking: 100%|███████████████████████████████████████████████████████████████████████████████████████████| 50/50 [00:00<00:00, 386.67it/s]\n"
     ]
    },
    {
     "name": "stdout",
     "output_type": "stream",
     "text": [
      "Attack Success Rate: 1/50 = 2.00%\n",
      "Testing pgd_attack with epsilon=0.15 on 50 samples...\n"
     ]
    },
    {
     "name": "stderr",
     "output_type": "stream",
     "text": [
      "Attacking: 100%|████████████████████████████████████████████████████████████████████████████████████████████| 50/50 [00:01<00:00, 27.41it/s]\n"
     ]
    },
    {
     "name": "stdout",
     "output_type": "stream",
     "text": [
      "Attack Success Rate: 3/50 = 6.00%\n",
      "\n",
      "==============================\n",
      "Testing epsilon = 0.2\n",
      "==============================\n",
      "Testing fgsm_attack with epsilon=0.2 on 50 samples...\n"
     ]
    },
    {
     "name": "stderr",
     "output_type": "stream",
     "text": [
      "Attacking: 100%|███████████████████████████████████████████████████████████████████████████████████████████| 50/50 [00:00<00:00, 380.51it/s]\n"
     ]
    },
    {
     "name": "stdout",
     "output_type": "stream",
     "text": [
      "Attack Success Rate: 2/50 = 4.00%\n",
      "Testing pgd_attack with epsilon=0.2 on 50 samples...\n"
     ]
    },
    {
     "name": "stderr",
     "output_type": "stream",
     "text": [
      "Attacking: 100%|████████████████████████████████████████████████████████████████████████████████████████████| 50/50 [00:01<00:00, 28.53it/s]\n"
     ]
    },
    {
     "name": "stdout",
     "output_type": "stream",
     "text": [
      "Attack Success Rate: 11/50 = 22.00%\n"
     ]
    },
    {
     "data": {
      "image/png": "[encoded data removed]",
      "text/plain": [
       "<Figure size 1000x600 with 1 Axes>"
      ]
     },
     "metadata": {},
     "output_type": "display_data"
    },
    {
     "name": "stdout",
     "output_type": "stream",
     "text": [
      "\n",
      "🎯 Key Observations:\n",
      "- PGD generally achieves higher success rates than FGSM\n",
      "- Higher epsilon values lead to more successful attacks\n",
      "- Both attacks can fool the model with small perturbations\n",
      "\n",
      "✅ Attack evaluation complete!\n"
     ]
    }
   ],
   "source": [
    "# 📊 SYSTEMATIC ATTACK EVALUATION\n",
    "print(\"📊 EVALUATING ATTACK SUCCESS RATES\")\n",
    "print(\"=\" * 50)\n",
    "\n",
    "def evaluate_attack_success(model, test_loader, attack_function, epsilon, num_samples=100):\n",
    "    \"\"\"Evaluate attack success rate on multiple samples.\"\"\"\n",
    "    model.eval()\n",
    "    successes = 0\n",
    "    total = 0\n",
    "    \n",
    "    print(f\"Testing {attack_function.__name__} with epsilon={epsilon} on {num_samples} samples...\")\n",
    "    \n",
    "    with tqdm(total=num_samples, desc=\"Attacking\") as pbar:\n",
    "        for i, (image, label) in enumerate(test_loader):\n",
    "            if total >= num_samples:\n",
    "                break\n",
    "                \n",
    "            image, label = image.to(device), label.to(device)\n",
    "            \n",
    "            # Get clean prediction\n",
    "            with torch.no_grad():\n",
    "                clean_output = model(image)\n",
    "                clean_pred = torch.argmax(clean_output, dim=1)\n",
    "            \n",
    "            # Skip if model doesn't classify correctly originally\n",
    "            if clean_pred.item() != label.item():\n",
    "                continue\n",
    "            \n",
    "            # Generate adversarial example\n",
    "            if attack_function.__name__ == 'fgsm_attack':\n",
    "                adv_image, _ = attack_function(model, image, label, epsilon)\n",
    "            else:  # PGD\n",
    "                adv_image, _ = attack_function(model, image, label, epsilon, alpha=epsilon/10, num_iter=20)\n",
    "            \n",
    "            # Test adversarial example\n",
    "            with torch.no_grad():\n",
    "                adv_output = model(adv_image)\n",
    "                adv_pred = torch.argmax(adv_output, dim=1)\n",
    "            \n",
    "            # Count success (misclassification)\n",
    "            if adv_pred.item() != label.item():\n",
    "                successes += 1\n",
    "            \n",
    "            total += 1\n",
    "            pbar.update(1)\n",
    "    \n",
    "    success_rate = successes / total * 100 if total > 0 else 0\n",
    "    print(f\"Attack Success Rate: {successes}/{total} = {success_rate:.2f}%\")\n",
    "    return success_rate\n",
    "\n",
    "# Test different epsilons for both attacks\n",
    "epsilons_test = [0.05, 0.1, 0.15, 0.2]\n",
    "fgsm_results = []\n",
    "pgd_results = []\n",
    "\n",
    "for eps in epsilons_test:\n",
    "    print(f\"\\n{'='*30}\")\n",
    "    print(f\"Testing epsilon = {eps}\")\n",
    "    print(f\"{'='*30}\")\n",
    "    \n",
    "    fgsm_rate = evaluate_attack_success(model, test_loader, fgsm_attack, eps, num_samples=50)\n",
    "    pgd_rate = evaluate_attack_success(model, test_loader, pgd_attack, eps, num_samples=50)\n",
    "    \n",
    "    fgsm_results.append(fgsm_rate)\n",
    "    pgd_results.append(pgd_rate)\n",
    "\n",
    "# Plot results\n",
    "plt.figure(figsize=(10, 6))\n",
    "plt.plot(epsilons_test, fgsm_results, 'o-', label='FGSM', linewidth=2, markersize=8)\n",
    "plt.plot(epsilons_test, pgd_results, 's-', label='PGD', linewidth=2, markersize=8)\n",
    "plt.xlabel('Epsilon (Perturbation Budget)', fontsize=12)\n",
    "plt.ylabel('Attack Success Rate (%)', fontsize=12)\n",
    "plt.title('Attack Success Rate vs Perturbation Budget', fontsize=14, fontweight='bold')\n",
    "plt.legend(fontsize=12)\n",
    "plt.grid(True, alpha=0.3)\n",
    "plt.ylim(0, 30)\n",
    "\n",
    "plt.tight_layout()\n",
    "plt.show()\n",
    "\n",
    "print(\"\\n🎯 Key Observations:\")\n",
    "print(\"- PGD generally achieves higher success rates than FGSM\")\n",
    "print(\"- Higher epsilon values lead to more successful attacks\")\n",
    "print(\"- Both attacks can fool the model with small perturbations\")\n",
    "print(\"\\n✅ Attack evaluation complete!\")\n"
   ]
  },
  {
   "cell_type": "markdown",
   "metadata": {},
   "source": [
    "## 🎉 Recitation Complete!\n",
    "\n",
    "**Congratulations!** You have successfully:\n",
    "\n",
    "Ready to dive deeper into adversarial machine learning? Complete Assignment 3! 🚀\n"
   ]
  }
 ],
 "metadata": {
  "kernelspec": {
   "display_name": "Python 3 (ipykernel)",
   "language": "python",
   "name": "python3"
  },
  "language_info": {
   "codemirror_mode": {
    "name": "ipython",
    "version": 3
   },
   "file_extension": ".py",
   "mimetype": "text/x-python",
   "name": "python",
   "nbconvert_exporter": "python",
   "pygments_lexer": "ipython3",
   "version": "3.9.6"
  }
 },
 "nbformat": 4,
 "nbformat_minor": 4
}
